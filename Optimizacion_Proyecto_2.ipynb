{
  "nbformat": 4,
  "nbformat_minor": 0,
  "metadata": {
    "colab": {
      "provenance": []
    },
    "kernelspec": {
      "name": "python3",
      "display_name": "Python 3"
    },
    "language_info": {
      "name": "python"
    }
  },
  "cells": [
    {
      "cell_type": "markdown",
      "source": [
        "#Proyecto 2: Análisis y Selección de Problema"
      ],
      "metadata": {
        "id": "pWSz7UsBNJiq"
      }
    },
    {
      "cell_type": "markdown",
      "source": [
        "**Parte 1: Preprocesamiento de Datos**"
      ],
      "metadata": {
        "id": "VABFvOZ_NPFZ"
      }
    },
    {
      "cell_type": "code",
      "source": [
        "# Importacion de bibliotecas\n",
        "import numpy as np\n",
        "import pandas as pd\n",
        "import matplotlib.pyplot as plt\n",
        "import seaborn as sns\n",
        "from sklearn.model_selection import train_test_split\n",
        "from sklearn.metrics import mean_squared_error, r2_score\n",
        "\n",
        "# Carga de datos\n",
        "df = pd.read_csv(\"/content/insurance.csv\")"
      ],
      "metadata": {
        "id": "8Kz9-kIBNTd5"
      },
      "execution_count": null,
      "outputs": []
    },
    {
      "cell_type": "markdown",
      "source": [
        "#1- Limpieza de Datos:"
      ],
      "metadata": {
        "id": "Fe43UHMrOBXB"
      }
    },
    {
      "cell_type": "code",
      "execution_count": null,
      "metadata": {
        "colab": {
          "base_uri": "https://localhost:8080/"
        },
        "id": "J_Wq8lLfM9Ol",
        "outputId": "614250c9-b851-40d5-ee1d-112897b88973"
      },
      "outputs": [
        {
          "output_type": "stream",
          "name": "stdout",
          "text": [
            "Valores nulos por cada columna\n",
            "age         0\n",
            "sex         0\n",
            "bmi         0\n",
            "children    0\n",
            "smoker      0\n",
            "region      0\n",
            "charges     0\n",
            "dtype: int64\n",
            "Filas con valores nulos\n",
            "Empty DataFrame\n",
            "Columns: [age, sex, bmi, children, smoker, region, charges]\n",
            "Index: []\n"
          ]
        }
      ],
      "source": [
        "# Ver cuántos valores nulos hay en cada columna\n",
        "print(\"Valores nulos por cada columna\")\n",
        "print(df.isnull().sum())\n",
        "\n",
        "# Ver filas con valores nulos\n",
        "print(\"Filas con valores nulos\")\n",
        "print(df[df.isnull().any(axis=1)])"
      ]
    },
    {
      "cell_type": "code",
      "source": [
        "# Selecciona solo columnas numericas\n",
        "numeric_df = df.select_dtypes(include=np.number)\n",
        "Q1 = numeric_df.quantile(0.25)\n",
        "Q3 = numeric_df.quantile(0.75)\n",
        "IQR = Q3 - Q1\n",
        "# Definir límites de detección\n",
        "limite_inferior = Q1 - 1.5 * IQR\n",
        "limite_superior = Q3 + 1.5 * IQR\n",
        "# Ver cantidad de outliers por variable\n",
        "outliers = ((numeric_df < limite_inferior) | (numeric_df > limite_superior)).sum()\n",
        "print(\"Cantidad de outliers por variable:\")\n",
        "print(outliers)"
      ],
      "metadata": {
        "colab": {
          "base_uri": "https://localhost:8080/"
        },
        "id": "FSnQZE0GPVSR",
        "outputId": "e7989b24-6842-4d5a-9d12-cb914b12a1ce"
      },
      "execution_count": null,
      "outputs": [
        {
          "output_type": "stream",
          "name": "stdout",
          "text": [
            "Cantidad de outliers por variable:\n",
            "age           0\n",
            "bmi           9\n",
            "children      0\n",
            "charges     139\n",
            "dtype: int64\n"
          ]
        }
      ]
    },
    {
      "cell_type": "code",
      "source": [
        "#Crear una copia del df original\n",
        "df_transformed = df.copy()\n",
        "#Aplica una transformación logarítmica a la columna\n",
        "df_transformed['bmi'] = np.log1p(df_transformed['bmi'])  # Transformación logarítmica\n",
        "df_transformed['charges'] = np.log1p(df_transformed['charges']) # Transformación logarítmica\n",
        "\n",
        "print(\"DataFrame después de aplicar transformación logarítmica:\")\n",
        "print(df_transformed)\n"
      ],
      "metadata": {
        "colab": {
          "base_uri": "https://localhost:8080/"
        },
        "id": "NKjkHpktQM75",
        "outputId": "5807b653-0069-4be3-a786-6696915ae129"
      },
      "execution_count": null,
      "outputs": [
        {
          "output_type": "stream",
          "name": "stdout",
          "text": [
            "DataFrame después de aplicar transformación logarítmica:\n",
            "      age     sex       bmi  children smoker     region    charges\n",
            "0      19  female  3.363842         0    yes  southwest   9.734236\n",
            "1      18    male  3.548755         1     no  southeast   7.453882\n",
            "2      28    male  3.526361         3     no  southeast   8.400763\n",
            "3      33    male  3.165686         0     no  northwest   9.998137\n",
            "4      32    male  3.397189         0     no  northwest   8.260455\n",
            "...   ...     ...       ...       ...    ...        ...        ...\n",
            "1333   50    male  3.464798         3     no  northwest   9.268755\n",
            "1334   18  female  3.494080         0     no  northeast   7.699381\n",
            "1335   18  female  3.633631         0     no  southeast   7.396847\n",
            "1336   21  female  3.288402         0     no  southwest   7.605365\n",
            "1337   61  female  3.403528         0    yes  northwest  10.279948\n",
            "\n",
            "[1338 rows x 7 columns]\n"
          ]
        }
      ]
    },
    {
      "cell_type": "code",
      "source": [
        "# Importacion de biblioteca\n",
        "import matplotlib.pyplot as plt\n",
        "# Crear figura y subgráficos\n",
        "fig, axes = plt.subplots(1, 2, figsize=(12, 5))\n",
        "# Graficar distribución antes de la transformación\n",
        "df[['bmi', 'charges']].plot.hist(ax=axes[0], bins=30, alpha=0.7)\n",
        "axes[0].set_title(\"Distribución original\")\n",
        "# Graficar distribución después de la transformación\n",
        "df_transformed[['bmi', 'charges']].plot.hist(ax=axes[1], bins=30, alpha=0.7)\n",
        "axes[1].set_title(\"Distribución después de transformación logarítmica\")\n",
        "plt.tight_layout()\n",
        "plt.show()"
      ],
      "metadata": {
        "colab": {
          "base_uri": "https://localhost:8080/",
          "height": 507
        },
        "id": "r5WoaCP2QoK5",
        "outputId": "9ad1fc54-63ef-4692-bbe6-a2682a5aacf8"
      },
      "execution_count": null,
      "outputs": [
        {
          "output_type": "display_data",
          "data": {
            "text/plain": [
              "<Figure size 1200x500 with 2 Axes>"
            ],
            "image/png": "[encoded data removed]"
          },
          "metadata": {}
        }
      ]
    },
    {
      "cell_type": "markdown",
      "source": [
        "2- Transformación de Columnas:\n",
        "\n",
        "3- Creación de Pipelines:"
      ],
      "metadata": {
        "id": "EEggnRFgZWsh"
      }
    },
    {
      "cell_type": "code",
      "source": [
        "from sklearn.pipeline import Pipeline\n",
        "from sklearn.compose import ColumnTransformer\n",
        "from sklearn.preprocessing import OneHotEncoder, StandardScaler\n",
        "\n",
        "# Definir columnas categóricas y numéricas\n",
        "columnas_categoricas = ['sex', 'smoker', 'region']\n",
        "columnas_numericas = ['age', 'bmi', 'children', 'charges']\n",
        "\n",
        "# Definir el preprocesador con ColumnTransformer\n",
        "preprocesador = ColumnTransformer(\n",
        "    transformers=[\n",
        "        ('cat', OneHotEncoder(), columnas_categoricas),\n",
        "        ('num', StandardScaler(), columnas_numericas)\n",
        "    ])\n",
        "\n",
        "# Crear el pipeline con los pasos de preprocesamiento\n",
        "pipeline = Pipeline([\n",
        "    ('preprocesamiento', preprocesador)\n",
        "])\n",
        "\n",
        "# Aplicar el pipeline a tu conjunto de datos\n",
        "data_modificado = pipeline.fit_transform(df_transformed)\n",
        "\n",
        "# Obtener nombres de columnas transformadas\n",
        "columnas_transformadas = (\n",
        "    preprocesador.named_transformers_['cat']\n",
        "    .get_feature_names_out(columnas_categoricas)\n",
        "    .tolist() + columnas_numericas\n",
        ")\n",
        "\n",
        "# Convertir a DataFrame\n",
        "df_transformado = pd.DataFrame(data_modificado, columns=columnas_transformadas)\n",
        "\n",
        "print(df_transformado)"
      ],
      "metadata": {
        "colab": {
          "base_uri": "https://localhost:8080/"
        },
        "id": "0tQnsgNQbySB",
        "outputId": "1bc92107-f86f-4bbb-e2f5-579bf26c9b25",
        "collapsed": true
      },
      "execution_count": null,
      "outputs": [
        {
          "output_type": "stream",
          "name": "stdout",
          "text": [
            "      sex_female  sex_male  smoker_no  smoker_yes  region_northeast  \\\n",
            "0            1.0       0.0        0.0         1.0               0.0   \n",
            "1            0.0       1.0        1.0         0.0               0.0   \n",
            "2            0.0       1.0        1.0         0.0               0.0   \n",
            "3            0.0       1.0        1.0         0.0               0.0   \n",
            "4            0.0       1.0        1.0         0.0               0.0   \n",
            "...          ...       ...        ...         ...               ...   \n",
            "1333         0.0       1.0        1.0         0.0               0.0   \n",
            "1334         1.0       0.0        1.0         0.0               1.0   \n",
            "1335         1.0       0.0        1.0         0.0               0.0   \n",
            "1336         1.0       0.0        1.0         0.0               0.0   \n",
            "1337         1.0       0.0        0.0         1.0               0.0   \n",
            "\n",
            "      region_northwest  region_southeast  region_southwest       age  \\\n",
            "0                  0.0               0.0               1.0 -1.438764   \n",
            "1                  0.0               1.0               0.0 -1.509965   \n",
            "2                  0.0               1.0               0.0 -0.797954   \n",
            "3                  1.0               0.0               0.0 -0.441948   \n",
            "4                  1.0               0.0               0.0 -0.513149   \n",
            "...                ...               ...               ...       ...   \n",
            "1333               1.0               0.0               0.0  0.768473   \n",
            "1334               0.0               0.0               0.0 -1.509965   \n",
            "1335               0.0               1.0               0.0 -1.509965   \n",
            "1336               0.0               0.0               1.0 -1.296362   \n",
            "1337               1.0               0.0               0.0  1.551686   \n",
            "\n",
            "           bmi  children   charges  \n",
            "0    -0.370580 -0.908614  0.691385  \n",
            "1     0.574704 -0.078767 -1.789861  \n",
            "2     0.460223  1.580926 -0.759562  \n",
            "3    -1.383560 -0.908614  0.978536  \n",
            "4    -0.200105 -0.908614 -0.912231  \n",
            "...        ...       ...       ...  \n",
            "1333  0.145513  1.580926  0.184897  \n",
            "1334  0.295206 -0.908614 -1.522735  \n",
            "1335  1.008594 -0.908614 -1.851921  \n",
            "1336 -0.756231 -0.908614 -1.625033  \n",
            "1337 -0.167702 -0.908614  1.285174  \n",
            "\n",
            "[1338 rows x 12 columns]\n"
          ]
        }
      ]
    },
    {
      "cell_type": "markdown",
      "source": [
        "#Parte 2: Selección de Técnica de Machine Learning\n",
        "**Entrenamiento Inicial**:"
      ],
      "metadata": {
        "id": "lu7ldQ5ZdHWa"
      }
    },
    {
      "cell_type": "code",
      "source": [
        "# Preparación de los Datos\n",
        "from sklearn.model_selection import train_test_split\n",
        "\n",
        "X = df_transformado.drop(columns=['charges'])\n",
        "y = df_transformado['charges']\n",
        "\n",
        "X_train, X_test, y_train, y_test = train_test_split(X, y, test_size=0.2, random_state=42)"
      ],
      "metadata": {
        "id": "EJ6pb33Jr4SR"
      },
      "execution_count": null,
      "outputs": []
    },
    {
      "cell_type": "code",
      "source": [
        "# Definir los Modelos\n",
        "from sklearn.ensemble import RandomForestRegressor\n",
        "import xgboost as xgb\n",
        "\n",
        "modelos = {\n",
        "    \"Random Forest\": RandomForestRegressor(),\n",
        "    \"XGBoost\": xgb.XGBRegressor()\n",
        "}"
      ],
      "metadata": {
        "id": "UWnpeSH-sDJo"
      },
      "execution_count": null,
      "outputs": []
    },
    {
      "cell_type": "code",
      "source": [
        "# Validación Cruzada\n",
        "from sklearn.model_selection import cross_val_score\n",
        "import numpy as np\n",
        "\n",
        "resultados = {}\n",
        "\n",
        "for nombre, modelo in modelos.items():\n",
        "    scores = cross_val_score(modelo, X_train, y_train, cv=5, scoring='r2')\n",
        "    resultados[nombre] = np.mean(scores)\n",
        "\n",
        "# Ordenar resultados\n",
        "resultados_ordenados = dict(sorted(resultados.items(), key=lambda item: item[1], reverse=True))\n",
        "\n",
        "print(\"Resultados de validación cruzada:\")\n",
        "for modelo, score in resultados_ordenados.items():\n",
        "    print(f\"{modelo}: {score:.4f}\")"
      ],
      "metadata": {
        "colab": {
          "base_uri": "https://localhost:8080/"
        },
        "id": "tAxYp1C5sHKg",
        "outputId": "6a9fcf3f-df5c-4bd8-ab90-e303d07e6ff6"
      },
      "execution_count": null,
      "outputs": [
        {
          "output_type": "stream",
          "name": "stdout",
          "text": [
            "Resultados de validación cruzada:\n",
            "Random Forest: 0.8026\n",
            "XGBoost: 0.7599\n"
          ]
        }
      ]
    },
    {
      "cell_type": "code",
      "source": [
        "# Selección del Mejor Modelo\n",
        "from sklearn.metrics import mean_squared_error, r2_score\n",
        "\n",
        "mejor_modelo = max(resultados, key=resultados.get)\n",
        "modelo_final = modelos[mejor_modelo]\n",
        "modelo_final.fit(X_train, y_train)\n",
        "\n",
        "y_pred = modelo_final.predict(X_test)\n",
        "\n",
        "print(f\"Evaluación del modelo {mejor_modelo}:\")\n",
        "print(f\"MSE: {mean_squared_error(y_test, y_pred):.4f}\")\n",
        "print(f\"R2: {r2_score(y_test, y_pred):.4f}\")"
      ],
      "metadata": {
        "colab": {
          "base_uri": "https://localhost:8080/"
        },
        "id": "B5ypxX2AsJVZ",
        "outputId": "b9061872-c880-494e-8b83-75c7c6684d70"
      },
      "execution_count": null,
      "outputs": [
        {
          "output_type": "stream",
          "name": "stdout",
          "text": [
            "Evaluación del modelo Random Forest:\n",
            "MSE: 0.1638\n",
            "R2: 0.8461\n"
          ]
        }
      ]
    },
    {
      "cell_type": "markdown",
      "source": [
        "**Comparación de Modelos**:"
      ],
      "metadata": {
        "id": "edRuG3Cps4gQ"
      }
    },
    {
      "cell_type": "code",
      "source": [
        "from sklearn.metrics import roc_auc_score, f1_score\n",
        "import numpy as np\n",
        "from sklearn.ensemble import RandomForestRegressor\n",
        "import xgboost as xgb\n",
        "\n",
        "\n",
        "modelos = {\n",
        "    \"Random Forest\": RandomForestRegressor(),\n",
        "    \"XGBoost\": xgb.XGBRegressor()\n",
        "}\n",
        "\n",
        "y_pred_rf = modelos[\"Random Forest\"].fit(X_train, y_train).predict(X_test)\n",
        "y_pred_xgb = modelos[\"XGBoost\"].fit(X_train, y_train).predict(X_test)\n",
        "\n",
        "# clasificar los valores\n",
        "umbral = np.median(y_test)\n",
        "y_test_binario = (y_test >= umbral).astype(int)\n",
        "\n",
        "# Predicciones binarias basadas en la mediana del conjunto de entrenamiento\n",
        "y_pred_rf_binario = (y_pred_rf >= umbral).astype(int)\n",
        "y_pred_xgb_binario = (y_pred_xgb >= umbral).astype(int)\n",
        "\n",
        "# Calcular métricas\n",
        "roc_auc_rf = roc_auc_score(y_test_binario, y_pred_rf_binario)\n",
        "f1_rf = f1_score(y_test_binario, y_pred_rf_binario)\n",
        "\n",
        "roc_auc_xgb = roc_auc_score(y_test_binario, y_pred_xgb_binario)\n",
        "f1_xgb = f1_score(y_test_binario, y_pred_xgb_binario)\n",
        "\n",
        "# Mostrar resultados\n",
        "print(\"Comparación de métricas:\")\n",
        "print(f\"Random Forest - ROC-AUC: {roc_auc_rf:.4f}, F1-Score: {f1_rf:.4f}\")\n",
        "print(f\"XGBoost - ROC-AUC: {roc_auc_xgb:.4f}, F1-Score: {f1_xgb:.4f}\")"
      ],
      "metadata": {
        "colab": {
          "base_uri": "https://localhost:8080/"
        },
        "id": "t9V8XS3Hth1A",
        "outputId": "91b07c93-6267-477c-b3e8-e46dd66862df"
      },
      "execution_count": null,
      "outputs": [
        {
          "output_type": "stream",
          "name": "stdout",
          "text": [
            "Comparación de métricas:\n",
            "Random Forest - ROC-AUC: 0.9142, F1-Score: 0.9158\n",
            "XGBoost - ROC-AUC: 0.9142, F1-Score: 0.9151\n"
          ]
        }
      ]
    },
    {
      "cell_type": "markdown",
      "source": [
        "#Parte 3: Optimización de Hiperparámetros\n",
        "**GridSearchCV**:"
      ],
      "metadata": {
        "id": "e9ouTMghl9Eh"
      }
    },
    {
      "cell_type": "code",
      "source": [
        "# Predicciones binarias basadas en la mediana del conjunto de entrenamiento\n",
        "umbral = np.median(y_train) # Usar la mediana del conjunto de entrenamiento para binarizar y_train\n",
        "y_train_binario = (y_train >= umbral).astype(int)"
      ],
      "metadata": {
        "id": "lOnaKVwRvSJR"
      },
      "execution_count": null,
      "outputs": []
    },
    {
      "cell_type": "code",
      "source": [
        "from sklearn.model_selection import GridSearchCV\n",
        "from sklearn.ensemble import RandomForestClassifier  # Ahora usamos la versión de clasificación\n",
        "import numpy as np # Importar numpy para usar np.median y astype\n",
        "\n",
        "# Definir el modelo base\n",
        "modelo_rf = RandomForestClassifier()\n",
        "\n",
        "# Espacio de búsqueda de hiperparámetros\n",
        "parametros_rf = {\n",
        "    'n_estimators': [50, 100, 200],\n",
        "    'max_depth': [None, 10, 20, 30],\n",
        "    'min_samples_split': [2, 5, 10],\n",
        "    'min_samples_leaf': [1, 2, 4]\n",
        "}\n",
        "\n",
        "# Definir el umbral basado en la mediana del conjunto de entrenamiento\n",
        "# Esto es necesario porque GridSearchCV para un clasificador necesita etiquetas binarias\n",
        "umbral = np.median(y_train) # Usar la mediana del conjunto de entrenamiento\n",
        "y_train_binario = (y_train >= umbral).astype(int) # Crear la variable y_train_binario\n",
        "\n",
        "# Configurar GridSearchCV\n",
        "grid_search = GridSearchCV(\n",
        "    modelo_rf, parametros_rf,\n",
        "    cv=5, scoring='f1',\n",
        "    n_jobs=-1, verbose=2\n",
        ")\n",
        "\n",
        "# Ejecutar búsqueda de hiperparámetros\n",
        "# Ahora usamos la versión binaria de la variable objetivo para el clasificador\n",
        "grid_search.fit(X_train, y_train_binario)\n",
        "\n",
        "# Mostrar los mejores hiperparámetros encontrados\n",
        "print(\"Mejores hiperparámetros:\", grid_search.best_params_)\n",
        "print(\"Mejor puntaje F1-Score:\", grid_search.best_score_)"
      ],
      "metadata": {
        "colab": {
          "base_uri": "https://localhost:8080/"
        },
        "id": "h6R_NaoEvGxA",
        "outputId": "7c3120c3-0b40-4114-d320-f36b4a070a1b"
      },
      "execution_count": null,
      "outputs": [
        {
          "output_type": "stream",
          "name": "stdout",
          "text": [
            "Fitting 5 folds for each of 108 candidates, totalling 540 fits\n",
            "Mejores hiperparámetros: {'max_depth': 10, 'min_samples_leaf': 1, 'min_samples_split': 2, 'n_estimators': 100}\n",
            "Mejor puntaje F1-Score: 0.9253716170041801\n"
          ]
        }
      ]
    },
    {
      "cell_type": "markdown",
      "source": [
        "**RandomizedSearchCV**:"
      ],
      "metadata": {
        "id": "msJY4SXMpzhZ"
      }
    },
    {
      "cell_type": "code",
      "source": [
        "from sklearn.model_selection import RandomizedSearchCV\n",
        "from sklearn.ensemble import RandomForestClassifier\n",
        "import numpy as np\n",
        "\n",
        "# Definir el modelo base\n",
        "modelo_rf = RandomForestClassifier()\n",
        "\n",
        "# Espacio de búsqueda con rango más amplio\n",
        "parametros_rf = {\n",
        "    'n_estimators': np.arange(50, 300, 50),  # Número de árboles (50 a 300 en pasos de 50)\n",
        "    'max_depth': [None, 10, 20, 30, 40],  # Profundidad máxima de los árboles\n",
        "    'min_samples_split': np.arange(2, 11, 2),  # Mínimo número de muestras para dividir un nodo\n",
        "    'min_samples_leaf': np.arange(1, 5),  # Mínimo número de muestras en una hoja\n",
        "    'bootstrap': [True, False]  # Uso de muestreo con reemplazo\n",
        "}\n",
        "\n",
        "# Configurar RandomizedSearchCV\n",
        "random_search = RandomizedSearchCV(\n",
        "    modelo_rf, parametros_rf,\n",
        "    n_iter=50,  # Número de combinaciones aleatorias a probar\n",
        "    cv=5, scoring='f1',\n",
        "    n_jobs=-1, verbose=2, random_state=42\n",
        ")\n",
        "\n",
        "# Ejecutar búsqueda de hiperparámetros\n",
        "random_search.fit(X_train, y_train_binario)\n",
        "\n",
        "# Mostrar los mejores hiperparámetros encontrados\n",
        "print(\"Mejores hiperparámetros:\", random_search.best_params_)\n",
        "print(\"Mejor puntaje F1-Score:\", random_search.best_score_)"
      ],
      "metadata": {
        "colab": {
          "base_uri": "https://localhost:8080/"
        },
        "id": "vPKhV4ckww-J",
        "outputId": "ebd72c50-4e44-43c5-8afc-9f0b71347657"
      },
      "execution_count": null,
      "outputs": [
        {
          "output_type": "stream",
          "name": "stdout",
          "text": [
            "Fitting 5 folds for each of 50 candidates, totalling 250 fits\n",
            "Mejores hiperparámetros: {'n_estimators': np.int64(200), 'min_samples_split': np.int64(10), 'min_samples_leaf': np.int64(3), 'max_depth': 40, 'bootstrap': False}\n",
            "Mejor puntaje F1-Score: 0.9242949410551947\n"
          ]
        }
      ]
    },
    {
      "cell_type": "markdown",
      "source": [
        "**Evaluación del modelo**"
      ],
      "metadata": {
        "id": "Kn3vHmXwxh35"
      }
    },
    {
      "cell_type": "code",
      "source": [
        "from sklearn.metrics import accuracy_score, f1_score\n",
        "\n",
        "# Modelo optimizado con los mejores hiperparámetros\n",
        "modelo_rf_optimo = RandomForestClassifier(**random_search.best_params_)\n",
        "modelo_rf_optimo.fit(X_train, y_train_binario)\n",
        "\n",
        "# Predicciones\n",
        "y_pred_optimo = modelo_rf_optimo.predict(X_test)\n",
        "\n",
        "# Evaluación final\n",
        "print(\"Evaluación del modelo optimizado:\")\n",
        "print(f\"Exactitud: {accuracy_score(y_test_binario, y_pred_optimo):.4f}\")\n",
        "print(f\"F1-Score: {f1_score(y_test_binario, y_pred_optimo):.4f}\")"
      ],
      "metadata": {
        "colab": {
          "base_uri": "https://localhost:8080/"
        },
        "id": "6WnAD6Q1xWXh",
        "outputId": "36c24f21-c7a8-433d-e5ea-103b59fd7902"
      },
      "execution_count": null,
      "outputs": [
        {
          "output_type": "stream",
          "name": "stdout",
          "text": [
            "Evaluación del modelo optimizado:\n",
            "Exactitud: 0.9142\n",
            "F1-Score: 0.9069\n"
          ]
        }
      ]
    },
    {
      "cell_type": "markdown",
      "source": [
        "**Optuna**:"
      ],
      "metadata": {
        "id": "SENQjfTGxzhg"
      }
    },
    {
      "cell_type": "code",
      "source": [
        "pip install optuna"
      ],
      "metadata": {
        "collapsed": true,
        "colab": {
          "base_uri": "https://localhost:8080/"
        },
        "id": "fCMsyMxpxpf4",
        "outputId": "75384938-5fcb-47de-ca4e-07f4c7c01c08"
      },
      "execution_count": null,
      "outputs": [
        {
          "output_type": "stream",
          "name": "stdout",
          "text": [
            "Collecting optuna\n",
            "  Downloading optuna-4.3.0-py3-none-any.whl.metadata (17 kB)\n",
            "Collecting alembic>=1.5.0 (from optuna)\n",
            "  Downloading alembic-1.15.2-py3-none-any.whl.metadata (7.3 kB)\n",
            "Collecting colorlog (from optuna)\n",
            "  Downloading colorlog-6.9.0-py3-none-any.whl.metadata (10 kB)\n",
            "Requirement already satisfied: numpy in /usr/local/lib/python3.11/dist-packages (from optuna) (2.0.2)\n",
            "Requirement already satisfied: packaging>=20.0 in /usr/local/lib/python3.11/dist-packages (from optuna) (24.2)\n",
            "Requirement already satisfied: sqlalchemy>=1.4.2 in /usr/local/lib/python3.11/dist-packages (from optuna) (2.0.40)\n",
            "Requirement already satisfied: tqdm in /usr/local/lib/python3.11/dist-packages (from optuna) (4.67.1)\n",
            "Requirement already satisfied: PyYAML in /usr/local/lib/python3.11/dist-packages (from optuna) (6.0.2)\n",
            "Requirement already satisfied: Mako in /usr/lib/python3/dist-packages (from alembic>=1.5.0->optuna) (1.1.3)\n",
            "Requirement already satisfied: typing-extensions>=4.12 in /usr/local/lib/python3.11/dist-packages (from alembic>=1.5.0->optuna) (4.13.2)\n",
            "Requirement already satisfied: greenlet>=1 in /usr/local/lib/python3.11/dist-packages (from sqlalchemy>=1.4.2->optuna) (3.2.2)\n",
            "Downloading optuna-4.3.0-py3-none-any.whl (386 kB)\n",
            "\u001b[2K   \u001b[90m━━━━━━━━━━━━━━━━━━━━━━━━━━━━━━━━━━━━━━━━\u001b[0m \u001b[32m386.6/386.6 kB\u001b[0m \u001b[31m8.8 MB/s\u001b[0m eta \u001b[36m0:00:00\u001b[0m\n",
            "\u001b[?25hDownloading alembic-1.15.2-py3-none-any.whl (231 kB)\n",
            "\u001b[2K   \u001b[90m━━━━━━━━━━━━━━━━━━━━━━━━━━━━━━━━━━━━━━━━\u001b[0m \u001b[32m231.9/231.9 kB\u001b[0m \u001b[31m16.3 MB/s\u001b[0m eta \u001b[36m0:00:00\u001b[0m\n",
            "\u001b[?25hDownloading colorlog-6.9.0-py3-none-any.whl (11 kB)\n",
            "Installing collected packages: colorlog, alembic, optuna\n",
            "Successfully installed alembic-1.15.2 colorlog-6.9.0 optuna-4.3.0\n"
          ]
        }
      ]
    },
    {
      "cell_type": "code",
      "source": [
        "import optuna\n",
        "from sklearn.ensemble import RandomForestClassifier\n",
        "from sklearn.model_selection import cross_val_score\n",
        "\n",
        "def objective(trial):\n",
        "    # Espacio de búsqueda de hiperparámetros\n",
        "    n_estimators = trial.suggest_int('n_estimators', 50, 300)\n",
        "    max_depth = trial.suggest_int('max_depth', 5, 40)\n",
        "    min_samples_split = trial.suggest_int('min_samples_split', 2, 10)\n",
        "    min_samples_leaf = trial.suggest_int('min_samples_leaf', 1, 5)\n",
        "    bootstrap = trial.suggest_categorical('bootstrap', [True, False])\n",
        "\n",
        "    # Definir el modelo con los hiperparámetros elegidos\n",
        "    model = RandomForestClassifier(\n",
        "        n_estimators=n_estimators, max_depth=max_depth,\n",
        "        min_samples_split=min_samples_split, min_samples_leaf=min_samples_leaf,\n",
        "        bootstrap=bootstrap, random_state=42\n",
        "    )\n",
        "\n",
        "    # Evaluar con validación cruzada\n",
        "    score = cross_val_score(model, X_train, y_train_binario, cv=5, scoring='f1').mean()\n",
        "\n",
        "    return score  # Maximizar F1-Score\n",
        "\n",
        "# Crear estudio de Optuna\n",
        "study = optuna.create_study(direction='maximize')\n",
        "study.optimize(objective, n_trials=50)  # Ejecutar 50 pruebas\n",
        "\n",
        "# Mostrar los mejores hiperparámetros encontrados\n",
        "print(\"Mejores hiperparámetros:\", study.best_params)\n",
        "print(\"Mejor puntaje F1-Score:\", study.best_value)\n"
      ],
      "metadata": {
        "colab": {
          "base_uri": "https://localhost:8080/"
        },
        "collapsed": true,
        "id": "9AmuZtNRx8kx",
        "outputId": "23d8390f-df81-42d3-d1cd-aea241eed4e4"
      },
      "execution_count": null,
      "outputs": [
        {
          "output_type": "stream",
          "name": "stderr",
          "text": [
            "[I 2025-05-17 01:07:08,012] A new study created in memory with name: no-name-e2495f6f-ff28-4634-bf65-5b7a8ca118c1\n",
            "[I 2025-05-17 01:07:13,962] Trial 0 finished with value: 0.9231264874212156 and parameters: {'n_estimators': 282, 'max_depth': 10, 'min_samples_split': 2, 'min_samples_leaf': 5, 'bootstrap': True}. Best is trial 0 with value: 0.9231264874212156.\n",
            "[I 2025-05-17 01:07:14,700] Trial 1 finished with value: 0.9200712284121966 and parameters: {'n_estimators': 67, 'max_depth': 11, 'min_samples_split': 3, 'min_samples_leaf': 5, 'bootstrap': True}. Best is trial 0 with value: 0.9231264874212156.\n",
            "[I 2025-05-17 01:07:15,184] Trial 2 finished with value: 0.9199273944994693 and parameters: {'n_estimators': 51, 'max_depth': 9, 'min_samples_split': 5, 'min_samples_leaf': 4, 'bootstrap': False}. Best is trial 0 with value: 0.9231264874212156.\n",
            "[I 2025-05-17 01:07:16,854] Trial 3 finished with value: 0.9221776878607815 and parameters: {'n_estimators': 186, 'max_depth': 34, 'min_samples_split': 8, 'min_samples_leaf': 5, 'bootstrap': False}. Best is trial 0 with value: 0.9231264874212156.\n",
            "[I 2025-05-17 01:07:19,231] Trial 4 finished with value: 0.923259149751489 and parameters: {'n_estimators': 235, 'max_depth': 17, 'min_samples_split': 7, 'min_samples_leaf': 4, 'bootstrap': True}. Best is trial 4 with value: 0.923259149751489.\n",
            "[I 2025-05-17 01:07:19,714] Trial 5 finished with value: 0.9195693949625356 and parameters: {'n_estimators': 50, 'max_depth': 21, 'min_samples_split': 9, 'min_samples_leaf': 2, 'bootstrap': False}. Best is trial 4 with value: 0.923259149751489.\n",
            "[I 2025-05-17 01:07:21,234] Trial 6 finished with value: 0.9198225859814029 and parameters: {'n_estimators': 159, 'max_depth': 36, 'min_samples_split': 2, 'min_samples_leaf': 2, 'bootstrap': False}. Best is trial 4 with value: 0.923259149751489.\n",
            "[I 2025-05-17 01:07:23,233] Trial 7 finished with value: 0.9232305653886671 and parameters: {'n_estimators': 225, 'max_depth': 33, 'min_samples_split': 2, 'min_samples_leaf': 5, 'bootstrap': False}. Best is trial 4 with value: 0.923259149751489.\n",
            "[I 2025-05-17 01:07:26,483] Trial 8 finished with value: 0.9212779967910084 and parameters: {'n_estimators': 234, 'max_depth': 13, 'min_samples_split': 9, 'min_samples_leaf': 2, 'bootstrap': True}. Best is trial 4 with value: 0.923259149751489.\n",
            "[I 2025-05-17 01:07:27,130] Trial 9 finished with value: 0.9213096947925308 and parameters: {'n_estimators': 53, 'max_depth': 33, 'min_samples_split': 2, 'min_samples_leaf': 4, 'bootstrap': True}. Best is trial 4 with value: 0.923259149751489.\n",
            "[I 2025-05-17 01:07:30,201] Trial 10 finished with value: 0.9233424850927869 and parameters: {'n_estimators': 296, 'max_depth': 21, 'min_samples_split': 6, 'min_samples_leaf': 1, 'bootstrap': True}. Best is trial 10 with value: 0.9233424850927869.\n",
            "[I 2025-05-17 01:07:33,301] Trial 11 finished with value: 0.9233424850927869 and parameters: {'n_estimators': 300, 'max_depth': 21, 'min_samples_split': 6, 'min_samples_leaf': 1, 'bootstrap': True}. Best is trial 10 with value: 0.9233424850927869.\n",
            "[I 2025-05-17 01:07:36,300] Trial 12 finished with value: 0.924251141238172 and parameters: {'n_estimators': 284, 'max_depth': 24, 'min_samples_split': 5, 'min_samples_leaf': 1, 'bootstrap': True}. Best is trial 12 with value: 0.924251141238172.\n",
            "[I 2025-05-17 01:07:40,012] Trial 13 finished with value: 0.9232085778713619 and parameters: {'n_estimators': 263, 'max_depth': 27, 'min_samples_split': 5, 'min_samples_leaf': 1, 'bootstrap': True}. Best is trial 12 with value: 0.924251141238172.\n",
            "[I 2025-05-17 01:07:41,355] Trial 14 finished with value: 0.9205101019892696 and parameters: {'n_estimators': 121, 'max_depth': 26, 'min_samples_split': 4, 'min_samples_leaf': 1, 'bootstrap': True}. Best is trial 12 with value: 0.924251141238172.\n",
            "[I 2025-05-17 01:07:44,074] Trial 15 finished with value: 0.9231042613590729 and parameters: {'n_estimators': 265, 'max_depth': 27, 'min_samples_split': 7, 'min_samples_leaf': 3, 'bootstrap': True}. Best is trial 12 with value: 0.924251141238172.\n",
            "[I 2025-05-17 01:07:46,216] Trial 16 finished with value: 0.9211548064001146 and parameters: {'n_estimators': 203, 'max_depth': 16, 'min_samples_split': 5, 'min_samples_leaf': 2, 'bootstrap': True}. Best is trial 12 with value: 0.924251141238172.\n",
            "[I 2025-05-17 01:07:49,276] Trial 17 finished with value: 0.9233424850927869 and parameters: {'n_estimators': 297, 'max_depth': 39, 'min_samples_split': 6, 'min_samples_leaf': 1, 'bootstrap': True}. Best is trial 12 with value: 0.924251141238172.\n",
            "[I 2025-05-17 01:07:51,533] Trial 18 finished with value: 0.9222165863846788 and parameters: {'n_estimators': 148, 'max_depth': 23, 'min_samples_split': 10, 'min_samples_leaf': 3, 'bootstrap': True}. Best is trial 12 with value: 0.924251141238172.\n",
            "[I 2025-05-17 01:07:54,273] Trial 19 finished with value: 0.9220940460288405 and parameters: {'n_estimators': 262, 'max_depth': 6, 'min_samples_split': 4, 'min_samples_leaf': 1, 'bootstrap': True}. Best is trial 12 with value: 0.924251141238172.\n",
            "[I 2025-05-17 01:07:56,537] Trial 20 finished with value: 0.9221866529363935 and parameters: {'n_estimators': 214, 'max_depth': 30, 'min_samples_split': 7, 'min_samples_leaf': 2, 'bootstrap': True}. Best is trial 12 with value: 0.924251141238172.\n",
            "[I 2025-05-17 01:07:59,645] Trial 21 finished with value: 0.9233424850927869 and parameters: {'n_estimators': 296, 'max_depth': 20, 'min_samples_split': 6, 'min_samples_leaf': 1, 'bootstrap': True}. Best is trial 12 with value: 0.924251141238172.\n",
            "[I 2025-05-17 01:08:02,859] Trial 22 finished with value: 0.9224407552436886 and parameters: {'n_estimators': 278, 'max_depth': 24, 'min_samples_split': 4, 'min_samples_leaf': 1, 'bootstrap': True}. Best is trial 12 with value: 0.924251141238172.\n",
            "[I 2025-05-17 01:08:06,093] Trial 23 finished with value: 0.9233424850927869 and parameters: {'n_estimators': 242, 'max_depth': 18, 'min_samples_split': 6, 'min_samples_leaf': 1, 'bootstrap': True}. Best is trial 12 with value: 0.924251141238172.\n",
            "[I 2025-05-17 01:08:09,281] Trial 24 finished with value: 0.9232292163032035 and parameters: {'n_estimators': 282, 'max_depth': 20, 'min_samples_split': 5, 'min_samples_leaf': 2, 'bootstrap': True}. Best is trial 12 with value: 0.924251141238172.\n",
            "[I 2025-05-17 01:08:11,853] Trial 25 finished with value: 0.9241261862940412 and parameters: {'n_estimators': 245, 'max_depth': 15, 'min_samples_split': 7, 'min_samples_leaf': 1, 'bootstrap': True}. Best is trial 12 with value: 0.924251141238172.\n",
            "[I 2025-05-17 01:08:14,242] Trial 26 finished with value: 0.9252035972005798 and parameters: {'n_estimators': 260, 'max_depth': 15, 'min_samples_split': 8, 'min_samples_leaf': 3, 'bootstrap': False}. Best is trial 26 with value: 0.9252035972005798.\n",
            "[I 2025-05-17 01:08:16,478] Trial 27 finished with value: 0.9252103639407668 and parameters: {'n_estimators': 189, 'max_depth': 14, 'min_samples_split': 8, 'min_samples_leaf': 3, 'bootstrap': False}. Best is trial 27 with value: 0.9252103639407668.\n",
            "[I 2025-05-17 01:08:17,787] Trial 28 finished with value: 0.9191752584153681 and parameters: {'n_estimators': 107, 'max_depth': 6, 'min_samples_split': 8, 'min_samples_leaf': 3, 'bootstrap': False}. Best is trial 27 with value: 0.9252103639407668.\n",
            "[I 2025-05-17 01:08:19,487] Trial 29 finished with value: 0.9224758426950197 and parameters: {'n_estimators': 190, 'max_depth': 13, 'min_samples_split': 10, 'min_samples_leaf': 3, 'bootstrap': False}. Best is trial 27 with value: 0.9252103639407668.\n",
            "[I 2025-05-17 01:08:20,881] Trial 30 finished with value: 0.9221844546009684 and parameters: {'n_estimators': 153, 'max_depth': 10, 'min_samples_split': 8, 'min_samples_leaf': 4, 'bootstrap': False}. Best is trial 27 with value: 0.9252103639407668.\n",
            "[I 2025-05-17 01:08:23,182] Trial 31 finished with value: 0.9223625739054363 and parameters: {'n_estimators': 251, 'max_depth': 15, 'min_samples_split': 9, 'min_samples_leaf': 3, 'bootstrap': False}. Best is trial 27 with value: 0.9252103639407668.\n",
            "[I 2025-05-17 01:08:25,141] Trial 32 finished with value: 0.9214539177600513 and parameters: {'n_estimators': 214, 'max_depth': 13, 'min_samples_split': 8, 'min_samples_leaf': 3, 'bootstrap': False}. Best is trial 27 with value: 0.9252103639407668.\n",
            "[I 2025-05-17 01:08:27,659] Trial 33 finished with value: 0.9252085778713619 and parameters: {'n_estimators': 275, 'max_depth': 18, 'min_samples_split': 7, 'min_samples_leaf': 4, 'bootstrap': False}. Best is trial 27 with value: 0.9252103639407668.\n",
            "[I 2025-05-17 01:08:31,082] Trial 34 finished with value: 0.9251896625469935 and parameters: {'n_estimators': 273, 'max_depth': 18, 'min_samples_split': 9, 'min_samples_leaf': 4, 'bootstrap': False}. Best is trial 27 with value: 0.9252103639407668.\n",
            "[I 2025-05-17 01:08:31,950] Trial 35 finished with value: 0.9212779967910084 and parameters: {'n_estimators': 93, 'max_depth': 11, 'min_samples_split': 9, 'min_samples_leaf': 4, 'bootstrap': False}. Best is trial 27 with value: 0.9252103639407668.\n",
            "[I 2025-05-17 01:08:33,606] Trial 36 finished with value: 0.9234122467515828 and parameters: {'n_estimators': 179, 'max_depth': 18, 'min_samples_split': 8, 'min_samples_leaf': 4, 'bootstrap': False}. Best is trial 27 with value: 0.9252103639407668.\n",
            "[I 2025-05-17 01:08:35,921] Trial 37 finished with value: 0.9232233991807778 and parameters: {'n_estimators': 268, 'max_depth': 9, 'min_samples_split': 10, 'min_samples_leaf': 5, 'bootstrap': False}. Best is trial 27 with value: 0.9252103639407668.\n",
            "[I 2025-05-17 01:08:38,209] Trial 38 finished with value: 0.9252085778713619 and parameters: {'n_estimators': 252, 'max_depth': 17, 'min_samples_split': 7, 'min_samples_leaf': 4, 'bootstrap': False}. Best is trial 27 with value: 0.9252103639407668.\n",
            "[I 2025-05-17 01:08:40,212] Trial 39 finished with value: 0.9232305653886671 and parameters: {'n_estimators': 225, 'max_depth': 14, 'min_samples_split': 7, 'min_samples_leaf': 5, 'bootstrap': False}. Best is trial 27 with value: 0.9252103639407668.\n",
            "[I 2025-05-17 01:08:42,366] Trial 40 finished with value: 0.9232301659209649 and parameters: {'n_estimators': 167, 'max_depth': 12, 'min_samples_split': 7, 'min_samples_leaf': 4, 'bootstrap': False}. Best is trial 27 with value: 0.9252103639407668.\n",
            "[I 2025-05-17 01:08:44,977] Trial 41 finished with value: 0.9242999217259769 and parameters: {'n_estimators': 251, 'max_depth': 18, 'min_samples_split': 8, 'min_samples_leaf': 4, 'bootstrap': False}. Best is trial 27 with value: 0.9252103639407668.\n",
            "[I 2025-05-17 01:08:47,415] Trial 42 finished with value: 0.9251896625469935 and parameters: {'n_estimators': 272, 'max_depth': 17, 'min_samples_split': 9, 'min_samples_leaf': 4, 'bootstrap': False}. Best is trial 27 with value: 0.9252103639407668.\n",
            "[I 2025-05-17 01:08:49,491] Trial 43 finished with value: 0.9234122467515828 and parameters: {'n_estimators': 230, 'max_depth': 15, 'min_samples_split': 8, 'min_samples_leaf': 4, 'bootstrap': False}. Best is trial 27 with value: 0.9252103639407668.\n",
            "[I 2025-05-17 01:08:51,758] Trial 44 finished with value: 0.9214539177600513 and parameters: {'n_estimators': 252, 'max_depth': 19, 'min_samples_split': 9, 'min_samples_leaf': 3, 'bootstrap': False}. Best is trial 27 with value: 0.9252103639407668.\n",
            "[I 2025-05-17 01:08:54,792] Trial 45 finished with value: 0.9212910320310194 and parameters: {'n_estimators': 284, 'max_depth': 16, 'min_samples_split': 7, 'min_samples_leaf': 5, 'bootstrap': False}. Best is trial 27 with value: 0.9252103639407668.\n",
            "[I 2025-05-17 01:08:57,073] Trial 46 finished with value: 0.9252085778713619 and parameters: {'n_estimators': 207, 'max_depth': 22, 'min_samples_split': 8, 'min_samples_leaf': 4, 'bootstrap': False}. Best is trial 27 with value: 0.9252103639407668.\n",
            "[I 2025-05-17 01:08:59,781] Trial 47 finished with value: 0.9242931549857898 and parameters: {'n_estimators': 198, 'max_depth': 22, 'min_samples_split': 8, 'min_samples_leaf': 3, 'bootstrap': False}. Best is trial 27 with value: 0.9252103639407668.\n",
            "[I 2025-05-17 01:09:01,510] Trial 48 finished with value: 0.9212914176672214 and parameters: {'n_estimators': 140, 'max_depth': 22, 'min_samples_split': 7, 'min_samples_leaf': 3, 'bootstrap': False}. Best is trial 27 with value: 0.9252103639407668.\n",
            "[I 2025-05-17 01:09:03,328] Trial 49 finished with value: 0.9232103639407668 and parameters: {'n_estimators': 215, 'max_depth': 8, 'min_samples_split': 8, 'min_samples_leaf': 4, 'bootstrap': False}. Best is trial 27 with value: 0.9252103639407668.\n"
          ]
        },
        {
          "output_type": "stream",
          "name": "stdout",
          "text": [
            "Mejores hiperparámetros: {'n_estimators': 189, 'max_depth': 14, 'min_samples_split': 8, 'min_samples_leaf': 3, 'bootstrap': False}\n",
            "Mejor puntaje F1-Score: 0.9252103639407668\n"
          ]
        }
      ]
    },
    {
      "cell_type": "markdown",
      "source": [
        "**Evaluación del modelo**"
      ],
      "metadata": {
        "id": "WbIg2d9TzOAZ"
      }
    },
    {
      "cell_type": "code",
      "source": [
        "# Modelo optimizado con los mejores hiperparámetros\n",
        "modelo_rf_optimo = RandomForestClassifier(**study.best_params)\n",
        "modelo_rf_optimo.fit(X_train, y_train_binario)\n",
        "\n",
        "# Predicciones y evaluación final\n",
        "y_pred_optimo = modelo_rf_optimo.predict(X_test)\n",
        "\n",
        "from sklearn.metrics import accuracy_score, f1_score\n",
        "\n",
        "print(\"Evaluación del modelo optimizado:\")\n",
        "print(f\"Exactitud: {accuracy_score(y_test_binario, y_pred_optimo):.4f}\")\n",
        "print(f\"F1-Score: {f1_score(y_test_binario, y_pred_optimo):.4f}\")"
      ],
      "metadata": {
        "colab": {
          "base_uri": "https://localhost:8080/"
        },
        "id": "oRdzWw-vzKUB",
        "outputId": "acb6f0b5-bc64-4b3d-87bb-673dd3d7ad3f"
      },
      "execution_count": null,
      "outputs": [
        {
          "output_type": "stream",
          "name": "stdout",
          "text": [
            "Evaluación del modelo optimizado:\n",
            "Exactitud: 0.9142\n",
            "F1-Score: 0.9069\n"
          ]
        }
      ]
    },
    {
      "cell_type": "markdown",
      "source": [
        "**Evaluación de Modelos Optimizados**:"
      ],
      "metadata": {
        "id": "YQdxoSU9zbsB"
      }
    },
    {
      "cell_type": "code",
      "source": [
        "# Modelo optimizado con los mejores hiperparámetros de Optuna\n",
        "modelo_rf_optimo = RandomForestClassifier(**study.best_params)\n",
        "modelo_rf_optimo.fit(X_train, y_train_binario)\n",
        "\n",
        "# Predicciones en el conjunto de prueba\n",
        "y_pred_optimo = modelo_rf_optimo.predict(X_test)"
      ],
      "metadata": {
        "id": "qYuWLXX1zZFg"
      },
      "execution_count": null,
      "outputs": []
    },
    {
      "cell_type": "markdown",
      "source": [
        "**Calculamos Exactitud y F1-Score**"
      ],
      "metadata": {
        "id": "tj2iXFQvzkW5"
      }
    },
    {
      "cell_type": "code",
      "source": [
        "from sklearn.metrics import accuracy_score, f1_score\n",
        "\n",
        "# Evaluación\n",
        "exactitud_optima = accuracy_score(y_test_binario, y_pred_optimo)\n",
        "f1_optima = f1_score(y_test_binario, y_pred_optimo)\n",
        "\n",
        "print(f\"Modelo Optimizado - Exactitud: {exactitud_optima:.4f}, F1-Score: {f1_optima:.4f}\")"
      ],
      "metadata": {
        "colab": {
          "base_uri": "https://localhost:8080/"
        },
        "id": "Y0cCAinXzmMR",
        "outputId": "e142dd1c-6515-40de-e5e0-18cb412acb8c"
      },
      "execution_count": null,
      "outputs": [
        {
          "output_type": "stream",
          "name": "stdout",
          "text": [
            "Modelo Optimizado - Exactitud: 0.9142, F1-Score: 0.9069\n"
          ]
        }
      ]
    },
    {
      "cell_type": "markdown",
      "source": [
        "**Comparación con el Modelo Inicial**"
      ],
      "metadata": {
        "id": "uxL3LZ4HzqEp"
      }
    },
    {
      "cell_type": "code",
      "source": [
        "# Evaluación del modelo inicial antes de la optimización\n",
        "y_pred_inicial = modelos[\"Random Forest\"].predict(X_test)\n",
        "\n",
        "# Convertir las predicciones a binarias\n",
        "umbral = np.median(y_test) # Usar la mediana del conjunto de prueba\n",
        "y_pred_inicial_binario = (y_pred_inicial >= umbral).astype(int)\n",
        "\n",
        "# predicciones binarias para calcular las métricas de clasificación\n",
        "exactitud_inicial = accuracy_score(y_test_binario, y_pred_inicial_binario)\n",
        "f1_inicial = f1_score(y_test_binario, y_pred_inicial_binario)\n",
        "\n",
        "print(\"Comparación de Rendimiento:\")\n",
        "print(f\"Modelo Inicial - Exactitud: {exactitud_inicial:.4f}, F1-Score: {f1_inicial:.4f}\")\n",
        "print(f\"Modelo Optimo - Exactitud: {exactitud_optima:.4f}, F1-Score: {f1_optima:.4f}\")"
      ],
      "metadata": {
        "colab": {
          "base_uri": "https://localhost:8080/"
        },
        "id": "-wA50MKZzst5",
        "outputId": "6dd68a50-c053-4a80-c008-a28c7a0411c8"
      },
      "execution_count": null,
      "outputs": [
        {
          "output_type": "stream",
          "name": "stdout",
          "text": [
            "Comparación de Rendimiento:\n",
            "Modelo Inicial - Exactitud: 0.9142, F1-Score: 0.9158\n",
            "Modelo Optimo - Exactitud: 0.9142, F1-Score: 0.9069\n"
          ]
        }
      ]
    }
  ]
}